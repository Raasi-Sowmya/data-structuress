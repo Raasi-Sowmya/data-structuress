{
 "cells": [
  {
   "cell_type": "code",
   "execution_count": 1,
   "id": "94a6ef4c",
   "metadata": {},
   "outputs": [],
   "source": [
    "#To print x^n (assignment-I)"
   ]
  },
  {
   "cell_type": "code",
   "execution_count": 2,
   "id": "373d3382",
   "metadata": {},
   "outputs": [
    {
     "name": "stdout",
     "output_type": "stream",
     "text": [
      "4\n",
      "2\n",
      "16\n"
     ]
    }
   ],
   "source": [
    "x=int(input())\n",
    "n=int(input())\n",
    "ans=1\n",
    "while n>0:\n",
    "    ans=ans*x\n",
    "    n=n-1\n",
    "print(ans)"
   ]
  },
  {
   "cell_type": "code",
   "execution_count": 1,
   "id": "f5849035",
   "metadata": {},
   "outputs": [],
   "source": [
    "#to print sum of elements using recursion (assignment-II)"
   ]
  },
  {
   "cell_type": "code",
   "execution_count": 3,
   "id": "c60ae96f",
   "metadata": {},
   "outputs": [
    {
     "name": "stdout",
     "output_type": "stream",
     "text": [
      "20\n"
     ]
    }
   ],
   "source": [
    "x=[2,4,6,8]\n",
    "def sumof(x,y):\n",
    "    if len(x):\n",
    "        return sumof(x[1:],y+x[0])\n",
    "    else:\n",
    "        return y\n",
    "print(sumof(x,0))"
   ]
  },
  {
   "cell_type": "code",
   "execution_count": 4,
   "id": "b8bb539c",
   "metadata": {},
   "outputs": [],
   "source": [
    "#find x is present or not"
   ]
  },
  {
   "cell_type": "code",
   "execution_count": 14,
   "id": "3b259aa1",
   "metadata": {},
   "outputs": [
    {
     "name": "stdout",
     "output_type": "stream",
     "text": [
      "55\n",
      "False\n"
     ]
    }
   ],
   "source": [
    "n=int(input())\n",
    "def array_present(x):\n",
    "    n=len(x)\n",
    "    if n==1 or n==0:\n",
    "        return true\n",
    "        return x[0]<=x[1] and array_present(x[1:])\n",
    "x=[93,72,29,42,57,60]\n",
    "if array_present(x):\n",
    "    print(\"True\")\n",
    "else:\n",
    "    print(\"False\")"
   ]
  },
  {
   "cell_type": "code",
   "execution_count": null,
   "id": "2fb1e5e7",
   "metadata": {},
   "outputs": [],
   "source": []
  },
  {
   "cell_type": "code",
   "execution_count": null,
   "id": "b925a654",
   "metadata": {},
   "outputs": [],
   "source": [
    "\n"
   ]
  }
 ],
 "metadata": {
  "kernelspec": {
   "display_name": "Python 3 (ipykernel)",
   "language": "python",
   "name": "python3"
  },
  "language_info": {
   "codemirror_mode": {
    "name": "ipython",
    "version": 3
   },
   "file_extension": ".py",
   "mimetype": "text/x-python",
   "name": "python",
   "nbconvert_exporter": "python",
   "pygments_lexer": "ipython3",
   "version": "3.9.13"
  }
 },
 "nbformat": 4,
 "nbformat_minor": 5
}
